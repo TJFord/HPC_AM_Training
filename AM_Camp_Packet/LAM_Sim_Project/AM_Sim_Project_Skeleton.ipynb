{
 "cells": [
  {
   "cell_type": "markdown",
   "id": "ff4ac198-1267-4e42-9b42-6aaf1aeb181a",
   "metadata": {},
   "source": [
    "# Laser Additive Manufacturing: Project Skeleton"
   ]
  },
  {
   "cell_type": "markdown",
   "id": "907b551d-41eb-485f-b28c-8b543cff1813",
   "metadata": {},
   "source": [
    "# Packages"
   ]
  },
  {
   "cell_type": "code",
   "execution_count": null,
   "id": "44aa0e18-7203-47c9-bd92-6e9c004ea4ee",
   "metadata": {},
   "outputs": [],
   "source": []
  },
  {
   "cell_type": "markdown",
   "id": "acae560d-621a-4e06-b080-400a73b71a23",
   "metadata": {},
   "source": [
    "# Input Parameters"
   ]
  },
  {
   "cell_type": "code",
   "execution_count": null,
   "id": "5110ae41-e6df-4031-8857-80546f2cecf1",
   "metadata": {},
   "outputs": [],
   "source": []
  },
  {
   "cell_type": "markdown",
   "id": "3fe9db37-4610-4b2f-879d-b1945d25bdf8",
   "metadata": {},
   "source": [
    "# Generators and Functions"
   ]
  },
  {
   "cell_type": "markdown",
   "id": "0505a9ac-f150-4f32-b95d-57731515350b",
   "metadata": {},
   "source": [
    "## Laser Path Generator"
   ]
  },
  {
   "cell_type": "code",
   "execution_count": null,
   "id": "bb93bc3d-ca07-461c-9ab1-24e940e6db65",
   "metadata": {},
   "outputs": [],
   "source": []
  },
  {
   "cell_type": "markdown",
   "id": "0b84d0a1-ee63-4927-a8f4-d835c375a263",
   "metadata": {},
   "source": [
    "## Mesh and Initial Value Generator "
   ]
  },
  {
   "cell_type": "code",
   "execution_count": null,
   "id": "31f6cb04-a55a-4416-8cae-a7ea3fa0f76c",
   "metadata": {},
   "outputs": [],
   "source": []
  },
  {
   "cell_type": "markdown",
   "id": "fe5919a9-f57c-410a-979c-c13c3070afaa",
   "metadata": {},
   "source": [
    "## Calculation Functions"
   ]
  },
  {
   "cell_type": "code",
   "execution_count": null,
   "id": "36ae6e1b-3168-45c5-acb3-084bacd8c16d",
   "metadata": {},
   "outputs": [],
   "source": []
  },
  {
   "cell_type": "markdown",
   "id": "918e9da5-236b-4372-bda3-69426ad7235b",
   "metadata": {},
   "source": [
    "## Animation Functions"
   ]
  },
  {
   "cell_type": "code",
   "execution_count": null,
   "id": "3f7a3750-0032-4ec2-8c32-07b308a12a76",
   "metadata": {},
   "outputs": [],
   "source": []
  },
  {
   "cell_type": "markdown",
   "id": "f1f6efac-784c-4f1e-8ba0-8687a4d0aa80",
   "metadata": {},
   "source": [
    "# Function Calls: (Main)"
   ]
  },
  {
   "cell_type": "code",
   "execution_count": null,
   "id": "40aaab0c-49db-4027-abde-4f30791c4c08",
   "metadata": {},
   "outputs": [],
   "source": []
  }
 ],
 "metadata": {
  "kernelspec": {
   "display_name": "Python 3 (ipykernel)",
   "language": "python",
   "name": "python3"
  },
  "language_info": {
   "codemirror_mode": {
    "name": "ipython",
    "version": 3
   },
   "file_extension": ".py",
   "mimetype": "text/x-python",
   "name": "python",
   "nbconvert_exporter": "python",
   "pygments_lexer": "ipython3",
   "version": "3.10.12"
  }
 },
 "nbformat": 4,
 "nbformat_minor": 5
}
