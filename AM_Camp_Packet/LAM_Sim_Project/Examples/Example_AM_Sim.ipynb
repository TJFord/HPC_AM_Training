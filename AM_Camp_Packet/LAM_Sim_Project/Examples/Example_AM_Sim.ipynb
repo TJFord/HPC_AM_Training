{
 "cells": [
  {
   "cell_type": "markdown",
   "id": "ff4ac198-1267-4e42-9b42-6aaf1aeb181a",
   "metadata": {
    "jp-MarkdownHeadingCollapsed": true
   },
   "source": [
    "# Laser Additive Manufacturing: Example Simulation"
   ]
  },
  {
   "cell_type": "markdown",
   "id": "907b551d-41eb-485f-b28c-8b543cff1813",
   "metadata": {},
   "source": [
    "# Packages"
   ]
  },
  {
   "cell_type": "code",
   "execution_count": 1,
   "id": "24b6ee7d-666b-4eda-baf5-7324fbee22b1",
   "metadata": {},
   "outputs": [],
   "source": [
    "%matplotlib inline\n",
    "\n",
    "import time\n",
    "import numpy as np\n",
    "import matplotlib.pyplot as plt\n",
    "from matplotlib import cm\n",
    "from IPython import display"
   ]
  },
  {
   "cell_type": "markdown",
   "id": "acae560d-621a-4e06-b080-400a73b71a23",
   "metadata": {},
   "source": [
    "# Input Parameters"
   ]
  },
  {
   "cell_type": "code",
   "execution_count": 2,
   "id": "f2ae45ca-3432-47f0-8b9a-153d95c35f2a",
   "metadata": {},
   "outputs": [],
   "source": [
    "# Input parameters:\n",
    "\n",
    "# Plate Initialization:\n",
    "x_length = 50/1000;               # [mm]-->[m]\n",
    "y_length = 50/1000;               # [mm]-->[m]\n",
    "nx = 200;                         # number of grid points\n",
    "ny = 200;                         # number of grid points\n",
    "#############################################################################\n",
    "# Plate Properties: Sample Material: AISI Type 316L Stainless Steel\n",
    "\n",
    "T0 = 300; \t\t\t              # Initial ambient temperature [K]\n",
    "k = 15; \t\t\t              # conductivity coefficient [W/m/K]\n",
    "cp = .5*1000; \t\t\t          # specific heat [J/g/c]-->[J/kg/K]\n",
    "rho = 8*1000; \t\t              # density [g/cc]-->[kg/m^3]\n",
    "Melt_Temp = 1670;                 # Melting point of material [k]\n",
    "Est_Max_Temp = 2600;              # Estimated Max Temperature [K] (Should never exceed 3500 [K])\n",
    "                                  # If White is seen on the Temperature Contour, Raise the Maximum Temperature\n",
    "#############################################################################\n",
    "# Laser Initialization:\n",
    "q = 300; \t\t\t              # laser power [W]\n",
    "Speed = 50/1000; \t              # laser speed x [mm/sec] --> [m/sec]\n",
    "L_Rad = .7/1000;                  # Radius of the laser beam [mm] --> [m]\n",
    "down_time  = .5;                  # time simulated added after laser is finished\n",
    "\n",
    "# Inputs for Point guided laser:\n",
    "HS_Path =[[-.005,0.015],[-.005,0],'stop',[.005,0.015],[.005,0],'stop',[-.015,-.005],[-.01,-.01],[.01,-0.01],[.015,-.005]];  \n",
    "# Heat Source Points [x,y], [m]\n",
    "path_stops = 2;               # the number of stops used\n",
    "#############################################################################\n",
    "# Simulation Options:\n",
    "\n",
    "Sim_Type = 'Steps';              # Enter 'Steps' to see multiple frames of the simulation and 'Final' to see the final frame.\n",
    "\n",
    "Sample_rate = 200;               # amount of samples collected per second\n",
    "Frame_rate = 20;                 # Frames seen per second\n",
    "Temp_Definition  = 200;          # Levels of temperature displayed on figure"
   ]
  },
  {
   "cell_type": "markdown",
   "id": "3fe9db37-4610-4b2f-879d-b1945d25bdf8",
   "metadata": {},
   "source": [
    "# Generators and Functions"
   ]
  },
  {
   "cell_type": "markdown",
   "id": "0505a9ac-f150-4f32-b95d-57731515350b",
   "metadata": {},
   "source": [
    "## Laser Path Generator"
   ]
  },
  {
   "cell_type": "code",
   "execution_count": 3,
   "id": "e7553c0e-5dd2-484f-83bd-5cc894602b88",
   "metadata": {},
   "outputs": [],
   "source": [
    "#For laser with point guided path\n",
    "def Lazer_Path_Point(speed,Sample_rate,HS_Points,num_stops): #Turns a list of points into a list that describes laser movement\n",
    "  total_time=0;                                              #per time step dt\n",
    "  All_times = list();                            #Initialize all lists needed to complete calculations\n",
    "  All_Distance = list();\n",
    "  All_dx_dt = list();\n",
    "  All_dy_dt = list();\n",
    "  for p in range(len(HS_Points)-1):              #for each point-to-point path, calc change in x and y per change in time\n",
    "    Point = HS_Points[p];\n",
    "    Next_Point = HS_Points[p+1];\n",
    "    if Point == 'stop':                          #if a stop appears, don't create a path to the next point\n",
    "      dx_dt = 'stop';\n",
    "      dy_dt = 'stop';\n",
    "      time_elap = 0.0001;\n",
    "      All_times.append(time_elap);               #Save the time taken to travel to the next point and save dy_dt,dx_dt\n",
    "      All_dx_dt.append(dx_dt);\n",
    "      All_dy_dt.append(dy_dt);\n",
    "    elif (Next_Point== 'stop'):                  #If next point is stop, don't do anything extra\n",
    "      null = None;                               #This stops extra data from being read\n",
    "    else:\n",
    "      dx = Next_Point[0]-Point[0];\n",
    "      dy = Next_Point[1]-Point[1];\n",
    "      Dist_Covered = np.sqrt((dx)**2+(dy)**2);\n",
    "      time_elap = Dist_Covered/speed;\n",
    "      dx_dt = dx/time_elap;\n",
    "      dy_dt = dy/time_elap;\n",
    "      All_Distance.append(Dist_Covered);          #Save the time taken to travel to the next point and save dy_dt,dx_dt\n",
    "      All_times.append(time_elap);\n",
    "      All_dx_dt.append(dx_dt);\n",
    "      All_dy_dt.append(dy_dt);\n",
    "  total_Time = sum(All_times);\n",
    "  Data_points = int(np.floor(total_Time*Sample_rate)+num_stops); #Calc the number of data points needed\n",
    "  Sim_dt = 1/Sample_rate;                                        #Calc the change in time per data point\n",
    "  step = 1;\n",
    "  current_path = 0;                                              #Set all initial values before the while loop\n",
    "  time_elap = 0;\n",
    "  u=0;\n",
    "  xq_pre = HS_Points[0][0];\n",
    "  yq_pre = HS_Points[0][1];\n",
    "  All_xq_pos = np.array([xq_pre]);\n",
    "  All_yq_pos = np.array([yq_pre]);\n",
    "  while step < Data_points:\n",
    "    path_time = All_times[current_path];              #set how long the current path will take\n",
    "    if time_elap < path_time:                         #Make sure that the right path is being calculated\n",
    "        null = None;\n",
    "    else:\n",
    "      current_path = current_path +1;                 #Update the path if needed\n",
    "      time_elap = 0;\n",
    "    for path in range(len(HS_Points)-1):              #for the path, calc the rate of change in position and\n",
    "      if path == current_path:                        #the position of the laser per change in time\n",
    "        x_rate = All_dx_dt[path];\n",
    "        y_rate = All_dy_dt[path];\n",
    "        if x_rate == 'stop':                          #if stop is passed, jump to the next point without making a path\n",
    "          xq_pos =HS_Points[path+2+u][0];\n",
    "          yq_pos =HS_Points[path+2+u][1];\n",
    "          All_xq_pos = np.concatenate((All_xq_pos,np.array([xq_pos]))); #save the new position of the laser after the stop\n",
    "          All_yq_pos = np.concatenate((All_yq_pos,np.array([yq_pos])));\n",
    "          u = u +1;\n",
    "        else:\n",
    "          xq_pos = xq_pre + x_rate*Sim_dt;            #calculate the next position of the laser after t+dt time\n",
    "          yq_pos = yq_pre + y_rate*Sim_dt;\n",
    "          All_xq_pos = np.concatenate((All_xq_pos,np.array([xq_pos]))); #save the position after t+dt time\n",
    "          All_yq_pos = np.concatenate((All_yq_pos,np.array([yq_pos])));\n",
    "        xq_pre = xq_pos;\n",
    "        yq_pre = yq_pos;                              #reset the previous position to use in the next loop\n",
    "    if x_rate == 'stop':\n",
    "      time_elap = time_elap + .0001;                  #if stop passes add arbitrary time to move the loop forward\n",
    "    else:\n",
    "      time_elap = time_elap + Sim_dt;                 #add the dt of the loop to the elapsed time and update the step\n",
    "    step = step+1;\n",
    "  return total_Time,Sim_dt,All_xq_pos,All_yq_pos,Data_points"
   ]
  },
  {
   "cell_type": "markdown",
   "id": "0b84d0a1-ee63-4927-a8f4-d835c375a263",
   "metadata": {},
   "source": [
    "## Mesh and Initial Value Generator "
   ]
  },
  {
   "cell_type": "code",
   "execution_count": 4,
   "id": "0eb4042c-e70e-4443-9bc6-d7b0dd2c8c27",
   "metadata": {},
   "outputs": [],
   "source": [
    "#For Mesh and value initialization\n",
    "[x,y] = np.meshgrid(np.linspace(-x_length/2,x_length/2,nx),np.linspace(-y_length/2,y_length/2,ny));  # Create a mesh for data collection\n",
    "\n",
    "Max_Time,dt,xq_pos,yq_pos,Data_points = Lazer_Path_Point(Speed,Sample_rate,HS_Path,path_stops);  # Call the Path generator\n",
    "\n",
    "alpha = k/(rho*cp);                                                     # initialize values needed for calculations\n",
    "x_area = (x_length/nx)**2\n",
    "y_area = (y_length/ny)**2\n",
    "Frames_Used = int(round((Max_Time+down_time)*Frame_rate))               # initialize simulation settings and frame to data ratio n\n",
    "After_Data_points = int(round(Sample_rate*down_time))\n",
    "Total_Data_points = Data_points+After_Data_points;\n",
    "n = int(round(Total_Data_points/Frames_Used));\n",
    "Time = np.linspace(0,Max_Time+down_time,Data_points+After_Data_points); # make a time array that includes the down time\n",
    "T = T0*np.ones((ny,nx));                                                # set the initial temperatue values of the plate mesh\n",
    "T0_Mat = T0*np.ones((ny,nx));"
   ]
  },
  {
   "cell_type": "markdown",
   "id": "fe5919a9-f57c-410a-979c-c13c3070afaa",
   "metadata": {},
   "source": [
    "## Calculation Functions"
   ]
  },
  {
   "cell_type": "code",
   "execution_count": 5,
   "id": "8a78c45c-58aa-409b-a976-da3021a751b7",
   "metadata": {},
   "outputs": [],
   "source": [
    "#Functions needed to complete calculations\n",
    "def Diffusion(nx,ny,alpha,dt,x_area,y_area,T_pre,T):#calculates the diffusion through the mesh per dt\n",
    "  diff_new = T;\n",
    "  for i in range(1,ny-1,1):\n",
    "    for j in range(1,nx-1,1):     # gauss seidel iteration\n",
    "      diff_new[i][j]= (1/(1+2*alpha*dt*((1/x_area)+(1/y_area))))*(T_pre[i][j]+(alpha*dt)*(((T[i-1][j]+T[i+1][j])/x_area)+((T[i][j-1]+T[i][j+1])/y_area)));\n",
    "  return diff_new\n",
    "\n",
    "def Heat_Dist(nx,ny,t,alpha,rho,cp,dt,xq_pos,yq_pos,T_diff):#Calculates temperature distribution by gauss heat source per dt\n",
    "  T_new = T_diff;\n",
    "  for i in range(1,ny-1,1):\n",
    "    for j in range(1,nx-1,1):\n",
    "      q_dt = q*dt; #Laser strength [J]\n",
    "      Denom_Out = 2*np.pi*rho*cp*((4*np.pi*alpha*dt)**(1/2))*(2*alpha*dt+L_Rad**2);\n",
    "      Num_xy = ((x[i][j]-xq_pos[t-1])**2)+((y[i][j]-yq_pos[t-1])**2);\n",
    "      Denom_xy = 4*alpha*dt + 2*(L_Rad**2);\n",
    "      T_new[i][j] = T_diff[i][j] + ((q_dt)/Denom_Out)*np.exp(-(Num_xy/Denom_xy)); #calcs the temp at point i,j\n",
    "  return T_new\n",
    "    \n",
    "def Melt_Bound(Melt_Temp,T,x,y): # Determines the area that is over the melting temperature and stores the boundary points\n",
    "  Bound_x = [np.float64(x) for x in range(0)];\n",
    "  Bound_y = [np.float64(x) for x in range(0)];\n",
    "  for i in range(1,ny-1,1):\n",
    "    for j in range(1,nx-1,1):\n",
    "      if T[i][j]>Melt_Temp and T[i][j]<Melt_Temp*1.05: #checks the temperatue of the point\n",
    "        Bound_x.append(x[i][j])\n",
    "        Bound_y.append(y[i][j])\n",
    "  Bound_x = np.array(Bound_x)\n",
    "  Bound_y = np.array(Bound_y)\n",
    "  return Bound_x,Bound_y"
   ]
  },
  {
   "cell_type": "markdown",
   "id": "918e9da5-236b-4372-bda3-69426ad7235b",
   "metadata": {},
   "source": [
    "## Animation Functions"
   ]
  },
  {
   "cell_type": "code",
   "execution_count": 6,
   "id": "32d0f2f2-1e6d-4d4f-9d84-2a4f62c5e979",
   "metadata": {},
   "outputs": [],
   "source": [
    "#Functions for Plotting:\n",
    "Scale = 1;                       # figure window scale\n",
    "Window_Pos = [0,0];              # Position of window from plate center (x,y) [m]\n",
    "# Temperature Contour\n",
    "def initialize_Plots(T0,q,k,cp,rho,T_Max,Temp_Definition,x_length,y_length,Window_Pos,Scale): #sets figure settings\n",
    "  fig_Both,(axc,axp) = plt.subplots(1,2)\n",
    "  fig_Both.set_figheight(6)\n",
    "  fig_Both.set_figwidth(14)\n",
    "  fig_Both.suptitle('Time Elapsed:')\n",
    "  axc.set_aspect('equal', 'box')\n",
    "  plt.rcParams.update({'text.color': \"Black\"})\n",
    "  axc.set_title('Temperature Contour:')\n",
    "  axc.set_xlabel('X [m]')\n",
    "  axc.set_ylabel('Y [m]')\n",
    "  axc.set_xlim((-((x_length/2)+Window_Pos[0])*Scale, ((x_length/2)+Window_Pos[0])*Scale));\n",
    "  axc.set_ylim((-((y_length/2)+Window_Pos[1])*Scale, ((y_length/2)+Window_Pos[1])*Scale));\n",
    "  plt.rcParams.update({'text.color': \"white\"})\n",
    "  axc.text(0.01, 0.95,['v = ', str(Speed)], transform=axc.transAxes,fontsize=8);\n",
    "  axc.text(0.01, 0.91,['T0= ', str(T0)], transform=axc.transAxes,fontsize=8);\n",
    "  axc.text(0.01, 0.87,['q= ', str(q)], transform=axc.transAxes,fontsize=8);\n",
    "  axc.text(0.01, 0.83,['k= ', str(k)], transform=axc.transAxes,fontsize=8);\n",
    "  axc.text(0.01, 0.79,['cp= ', str(cp)], transform=axc.transAxes,fontsize=8);\n",
    "  axc.text(0.01, 0.75,['rho= ', str(rho)], transform=axc.transAxes,fontsize=8);\n",
    "  plt.rcParams.update({'text.color': \"Black\"})\n",
    "  cvals = np.linspace(T0,T_Max,Temp_Definition)     # set contour values\n",
    "  axp.set_aspect('equal', 'box')\n",
    "  plt.rcParams.update({'text.color': \"Black\"})\n",
    "  axp.set_title('Material Melted:')\n",
    "  axp.set_xlabel('X [m]')\n",
    "  axp.set_xlim((-((x_length/2)+Window_Pos[0])*Scale, ((x_length/2)+Window_Pos[0])*Scale));\n",
    "  axp.set_ylim((-((y_length/2)+Window_Pos[1])*Scale, ((y_length/2)+Window_Pos[1])*Scale));\n",
    "  return fig_Both,axc,axp,cvals\n",
    "\n",
    "def plt_Both(Time,t,axc,axp,P_x,P_y,x,y,T,cvals,fig_Both,*,hdisplay): #plots both boundary and temp contours and updates fig\n",
    "  fig_Both.suptitle(['Time Elapsed: ',str(round(Time[t],2))])\n",
    "  T_cont = axc.contourf(x, y, T, cvals,cmap = cm.jet)\n",
    "  if t == 0:\n",
    "    cax = fig_Both.add_axes([axc.get_position().x1+0.005,axc.get_position().y0,0.01,axc.get_position().height])\n",
    "    plt.colorbar(T_cont,cax=cax)\n",
    "  Puddle = axp.scatter(P_x, P_y,c='red');\n",
    "  hdisplay.update(fig_Both)\n",
    "  return T_cont,Puddle\n",
    "\n",
    "def plt_Contour(Time,t,axc,x,y,T,cvals,fig_Both,*,hdisplay): #plots only temp contour for cooldown phase\n",
    "  fig_Both.suptitle(['(Cooling) Time Elapsed: ',str(round(Time[t],2))])\n",
    "  axc.set_title('(Cooling) Temperature Contour:')\n",
    "  T_cont = axc.contourf(x, y, T, cvals,cmap = cm.jet)\n",
    "  if t == 0:\n",
    "    cax = fig_Both.add_axes([axc.get_position().x1+0.005,axc.get_position().y0,0.01,axc.get_position().height])\n",
    "    plt.colorbar(T_cont,cax=cax)\n",
    "  hdisplay.update(fig_Both)\n",
    "  return T_cont"
   ]
  },
  {
   "cell_type": "markdown",
   "id": "f1f6efac-784c-4f1e-8ba0-8687a4d0aa80",
   "metadata": {},
   "source": [
    "# Function Calls: (Main)"
   ]
  },
  {
   "cell_type": "code",
   "execution_count": 7,
   "id": "b8eb8909-f342-44d7-810d-1a35b9d25eae",
   "metadata": {},
   "outputs": [
    {
     "data": {
      "image/png": "[encoded data removed]",
      "text/plain": [
       "<Figure size 1008x432 with 3 Axes>"
      ]
     },
     "metadata": {},
     "output_type": "display_data"
    }
   ],
   "source": [
    "#Function calls\n",
    "fig_Both,axc,axp,cvals = initialize_Plots(T0,q,k,cp,rho,Est_Max_Temp,Temp_Definition,x_length,y_length,Window_Pos,Scale)\n",
    "hdisplay_Both = display.display(\"\", display_id=True);\n",
    "Store_X_B_final = np.array([]);\n",
    "Store_Y_B_final = np.array([]);\n",
    "Store_X_B = list();\n",
    "Store_Y_B = list();\n",
    "Store_T = list();\n",
    "it = 0;\n",
    "for t in range((Data_points-1)+ After_Data_points): #sets loop to calcuate and plot for each data point\n",
    "  T_pre = T; # resets the previous Temp matrix\n",
    "  if t<=Data_points-1:\n",
    "    X_Bounds,Y_Bounds = Melt_Bound(Melt_Temp,T,x,y,); # calculate bound points for data point t\n",
    "    if X_Bounds.size>0:\n",
    "      Store_X_B_final = np.concatenate((Store_X_B_final,np.array(X_Bounds))); # store all bound points for final result\n",
    "      Store_Y_B_final = np.concatenate((Store_Y_B_final,np.array(Y_Bounds)));\n",
    "    if Sim_Type == 'Steps':\n",
    "      if t % n == 0: #for every frame generated plot the temp contour and boundary points for data point t\n",
    "        T_Cont,Puddle = plt_Both(Time,t,axc,axp,X_Bounds,Y_Bounds,x,y,T,cvals,fig_Both,hdisplay=hdisplay_Both)\n",
    "        Puddle.remove()\n",
    "        time.sleep(.0001)\n",
    "        T_Cont.remove()\n",
    "      if t == Data_points-1 or t == Data_points: # makes the final data point shown independent of frame ratio n\n",
    "        T_Cont,Puddle = plt_Both(Time,t,axc,axp,X_Bounds,Y_Bounds,x,y,T,cvals,fig_Both,hdisplay=hdisplay_Both)\n",
    "        Puddle.remove()\n",
    "        time.sleep(.0001)\n",
    "        T_Cont.remove()\n",
    "\n",
    "    T_diff = Diffusion(nx,ny,alpha,dt,x_area,y_area,T_pre,T) #calls the diffusion function for data point t\n",
    "\n",
    "    T = Heat_Dist(nx,ny,t,alpha,rho,cp,dt,xq_pos,yq_pos,T_diff) #calls the heat distribution function for data point dt\n",
    "\n",
    "  if t> Data_points: # if greater than data points, enter the cooldown phase\n",
    "    if Sim_Type == 'Steps':\n",
    "      if it == 0:\n",
    "        axp.set_title('Total Material Melted:')\n",
    "        Puddle = axp.scatter(Store_X_B_final, Store_Y_B_final,c='red'); # plot all boundary points to show total melted material\n",
    "        it = 1;\n",
    "    if t % n == 0:\n",
    "      if Sim_Type == 'Steps':\n",
    "        T_Cont = plt_Contour(Time,t,axc,x,y,T,cvals,fig_Both,hdisplay=hdisplay_Both); # plot the next temp contour\n",
    "    if t == (Data_points-1)+ After_Data_points-1:\n",
    "      if Sim_Type == 'Steps':\n",
    "        T_Cont = plt_Contour(Time,t,axc,x,y,T,cvals,fig_Both,hdisplay=hdisplay_Both); # plot final temp contour\n",
    "        Puddle = axp.scatter(Store_X_B_final, Store_Y_B_final,c='red'); # plot all boundary points to show total melted material\n",
    "\n",
    "    T_diff = Diffusion(nx,ny,alpha,dt,x_area,y_area,T_pre,T);\n",
    "    if Sim_Type == 'Final':\n",
    "      if t == (Data_points-1)+ After_Data_points-1:\n",
    "        axp.set_title('Total Material Melted:')\n",
    "        Puddle = axp.scatter(Store_X_B_final, Store_Y_B_final,c='red'); # plot all boundary points to show total melted material\n",
    "        T_Cont = plt_Contour(Time,t,axc,x,y,T,cvals,fig_Both,hdisplay=hdisplay_Both); # plot final temp contour\n",
    "plt.close()"
   ]
  }
 ],
 "metadata": {
  "kernelspec": {
   "display_name": "Python 3 (ipykernel)",
   "language": "python",
   "name": "python3"
  },
  "language_info": {
   "codemirror_mode": {
    "name": "ipython",
    "version": 3
   },
   "file_extension": ".py",
   "mimetype": "text/x-python",
   "name": "python",
   "nbconvert_exporter": "python",
   "pygments_lexer": "ipython3",
   "version": "3.10.12"
  }
 },
 "nbformat": 4,
 "nbformat_minor": 5
}
