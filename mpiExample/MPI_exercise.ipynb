{
 "cells": [
  {
   "cell_type": "markdown",
   "id": "34bada84-9d57-4edb-b9ae-ca6a9d7b94f8",
   "metadata": {},
   "source": [
    "## MPI exerciese\n",
    "### OpenMPI installation"
   ]
  },
  {
   "cell_type": "markdown",
   "id": "4572b7a4-0494-41ed-834e-cf8a0204942f",
   "metadata": {},
   "source": [
    "1. copy the install script from my folder jtan to your home directory\\\n",
    "    `cp ../jtan/mpi_install.sh .` \n",
    "2. install openmpi, it may take 10 mins\\\n",
    "   `bash mpi_install.sh`\n",
    "3. verify your mpi installed successfully\\\n",
    "   `mpirun -np 4 echo hello`"
   ]
  },
  {
   "cell_type": "markdown",
   "id": "cacfdf74-2328-4ba6-b8d1-9e16530a6f0b",
   "metadata": {},
   "source": [
    "### Simple example: hello_mpi\n",
    "1. copy folder from jtan to yours\\\n",
    "   `cp -r ../jtan/hello_mpi .`\n",
    "2. change to directory `hello_mpi`\\\n",
    "   `cd hello_mpi`\n",
    "3. compile mpi program\\\n",
    "   `mpicc -o hello_mpi hello_mpi.c`\n",
    "4. run the hello_mpi with multiple processors.\\\n",
    "   `mpirun -np N hello_mpi`\\\n",
    "   where N is the number of processors. currently we are only limited to a maximum of 4 processors\n"
   ]
  },
  {
   "cell_type": "markdown",
   "id": "8badeaf7-e1fb-42e6-9cf8-ad88e582ad91",
   "metadata": {},
   "source": [
    "### A complex example: Gauss elimination for solving linear equations\n",
    "1. navigate to your home directory\\\n",
    "   `cd ~`\n",
    "3. copy folder from jtan to yours\\\n",
    "   `cp -r ../jtan/gaussMPI .`\n",
    "4. change to directory `gaussMPI`\\\n",
    "   `cd gaussMPI`\n",
    "5. compile mpi program\\\n",
    "   `mpiCC -o gauss_mpi gauss_mpi.cpp`\\\n",
    "   Notice that the command we used is `mpiCC` which is different from previous `mpicc`\n",
    "6. run the gauss_mpi with multiple processors.\\\n",
    "   `mpirun -np N gauss_mpi`\\\n",
    "   where N is the number of processors. currently we are only limited to a maximum of 4 processors. You can record the excution time for N = 1, 2, 4 and then we plot the time against number of processors\n",
    "7. run the gauss_mpi with multiple processors for different sizes of a square matrix using option `-s`, e.g., a matrix of 1024x1024 can be specified as\\\n",
    "`mpirun -np N gauss_mpi -s 1024`\\\n",
    "try with size of 2048, 4096, and record the execution time, and plot the results using python, in my test, it took 27 s for a matrix with size of 4096x4096 on 4 processors"
   ]
  },
  {
   "cell_type": "code",
   "execution_count": null,
   "id": "9a3955ab-0ebf-4323-9e26-4b60ac398473",
   "metadata": {},
   "outputs": [],
   "source": []
  }
 ],
 "metadata": {
  "kernelspec": {
   "display_name": "Python 3 (ipykernel)",
   "language": "python",
   "name": "python3"
  },
  "language_info": {
   "codemirror_mode": {
    "name": "ipython",
    "version": 3
   },
   "file_extension": ".py",
   "mimetype": "text/x-python",
   "name": "python",
   "nbconvert_exporter": "python",
   "pygments_lexer": "ipython3",
   "version": "3.9.2"
  }
 },
 "nbformat": 4,
 "nbformat_minor": 5
}
